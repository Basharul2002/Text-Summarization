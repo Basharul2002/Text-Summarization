{
 "cells": [
  {
   "cell_type": "markdown",
   "metadata": {},
   "source": [
    "NLTK\n",
    "\n",
    "- Stands for Natural Language Toolkit\n",
    "- Programs for symbolic and statisitical 'Natural Language Processing(NLP)'\n",
    "- Lexical Analysis: Word and text tokenizer\n",
    "- n-gram and collocations\n",
    "- Part of spech tagger\n",
    "- Tree model and Text chunker for capturing \n",
    "- Named entity recognition"
   ]
  },
  {
   "cell_type": "markdown",
   "metadata": {},
   "source": [
    "Measure similarity between two sentences using cosine similarity\n",
    "\n",
    "- Measure of similarity between two nom-zero vectors of an inner product space that measures the cosine of the angle betweeen them\n",
    "- Similarity = (A.B) / (||A||.||B||) where A and B are vectors\n",
    "- Nltk.utils have cosine_distance() function"
   ]
  },
  {
   "cell_type": "code",
   "execution_count": null,
   "metadata": {},
   "outputs": [],
   "source": [
    "import nltk\n",
    "nltk.download('stopwords')\n",
    "from nltk.corpus import stopwords\n",
    "from nltk.cluster.util import cosine_distance\n",
    "from langdetect import detect\n",
    "import numpy as np\n",
    "import networkx as nx"
   ]
  },
  {
   "cell_type": "code",
   "execution_count": 22,
   "metadata": {},
   "outputs": [],
   "source": [
    "# Load Bangla stopwords from a file\n",
    "def load_bangla_stopwords(file_path):\n",
    "    with open(file_path, 'r', encoding='utf-8') as file:\n",
    "        return [line.strip() for line in file.readlines()]"
   ]
  },
  {
   "cell_type": "code",
   "execution_count": 23,
   "metadata": {},
   "outputs": [],
   "source": [
    "# Function to read article for English or Bangla text\n",
    "def read_article(file_name, language):\n",
    "    with open(file_name, 'r', encoding='utf-8') as file:\n",
    "        file_data = file.read()\n",
    "\n",
    "    if language == 'en':  # English text\n",
    "        article = file_data.split('.')\n",
    "    else:  # Bangla text\n",
    "        article = file_data.split('।')  # Bangla sentence-ending punctuation\n",
    "\n",
    "    sentences = []\n",
    "    for sentence in article:\n",
    "        if language == 'en':\n",
    "            sentence = sentence.replace('[^a-zA-Z]', ' ').split()\n",
    "        else:\n",
    "            sentence = sentence.replace('[^অ-হ]', ' ').split()  # Bangla word tokenization\n",
    "        sentences.append(sentence)\n",
    "    \n",
    "    sentences.pop()  # Remove last empty sentence if any\n",
    "    return sentences"
   ]
  },
  {
   "cell_type": "code",
   "execution_count": 24,
   "metadata": {},
   "outputs": [],
   "source": [
    "# Calculate sentence similarity for English or Bangla\n",
    "def sentence_similarity(sent1, sent2, stop_words=None):\n",
    "    if stop_words is None:\n",
    "        stop_words = []\n",
    "\n",
    "    sent1 = [w.lower() for w in sent1]\n",
    "    sent2 = [w.lower() for w in sent2]\n",
    "\n",
    "    all_words = list(set(sent1 + sent2))\n",
    "\n",
    "    vector1 = [0] * len(all_words)\n",
    "    vector2 = [0] * len(all_words)\n",
    "\n",
    "    for w in sent1:\n",
    "        if w in stop_words:\n",
    "            continue\n",
    "        vector1[all_words.index(w)] += 1\n",
    "\n",
    "    for w in sent2:\n",
    "        if w in stop_words:\n",
    "            continue\n",
    "        vector2[all_words.index(w)] += 1\n",
    "\n",
    "    return 1 - cosine_distance(vector1, vector2)"
   ]
  },
  {
   "cell_type": "code",
   "execution_count": 25,
   "metadata": {},
   "outputs": [],
   "source": [
    "# Generate similarity matrix for sentences\n",
    "def gen_sim_matrix(sentences, stop_words):\n",
    "    similarity_matrix = np.zeros((len(sentences), len(sentences)))\n",
    "\n",
    "    for idx1 in range(len(sentences)):\n",
    "        for idx2 in range(len(sentences)):\n",
    "            if idx1 == idx2:  # Ignore if both are the same sentence\n",
    "                continue\n",
    "            similarity_matrix[idx1][idx2] = sentence_similarity(sentences[idx1], sentences[idx2], stop_words)\n",
    "\n",
    "    return similarity_matrix"
   ]
  },
  {
   "cell_type": "code",
   "execution_count": 30,
   "metadata": {},
   "outputs": [],
   "source": [
    "# Main function to generate summary, supporting both Bangla and English\n",
    "def generate_summary(file_name, top_n=5):\n",
    "    # Detect the language of the file\n",
    "    with open(file_name, 'r', encoding='utf-8') as file:\n",
    "        file_data = file.read()\n",
    "        language = detect(file_data)\n",
    "\n",
    "    print(f\"Detected language: {language}\")\n",
    "    \n",
    "    if language == 'en':\n",
    "        stop_words = stopwords.words('english')\n",
    "    else:\n",
    "        stop_words = load_bangla_stopwords('./sample/bangla_stopwords.txt')\n",
    "\n",
    "    summarize_text = []\n",
    "\n",
    "    # Read the article\n",
    "    sentences = read_article(file_name, language)\n",
    "\n",
    "    # Generate the sentence similarity matrix\n",
    "    sentence_similarity_matrix = gen_sim_matrix(sentences, stop_words)\n",
    "\n",
    "    # Build sentence similarity graph\n",
    "    sentence_similarity_graph = nx.from_numpy_array(sentence_similarity_matrix)\n",
    "\n",
    "    # Rank sentences using PageRank\n",
    "    scores = nx.pagerank(sentence_similarity_graph)\n",
    "\n",
    "    # Sort sentences by score in descending order\n",
    "    ranked_sentences = sorted(((scores[i], s) for i, s in enumerate(sentences)), reverse=True)\n",
    "\n",
    "    # Extract top N sentences\n",
    "    for i in range(top_n):\n",
    "        summarize_text.append(' '.join(ranked_sentences[i][1]))\n",
    "\n",
    "    # Print summary\n",
    "    if language == 'en':\n",
    "        print(f'Summary:\\n{\" \".join(summarize_text)}')\n",
    "    else:\n",
    "        print(f'সারাংশ:\\n{\" \".join(summarize_text)}')\n",
    "\n"
   ]
  },
  {
   "cell_type": "code",
   "execution_count": null,
   "metadata": {},
   "outputs": [],
   "source": [
    "# Example usage(English)\n",
    "generate_summary('./sample/english_text.txt', 3)"
   ]
  },
  {
   "cell_type": "code",
   "execution_count": null,
   "metadata": {},
   "outputs": [],
   "source": [
    "# Example usage(Bangla)\n",
    "\n",
    "generate_summary('./sample/bangla_text.txt', 3)"
   ]
  }
 ],
 "metadata": {
  "kernelspec": {
   "display_name": "Python 3",
   "language": "python",
   "name": "python3"
  },
  "language_info": {
   "codemirror_mode": {
    "name": "ipython",
    "version": 3
   },
   "file_extension": ".py",
   "mimetype": "text/x-python",
   "name": "python",
   "nbconvert_exporter": "python",
   "pygments_lexer": "ipython3",
   "version": "3.12.3"
  }
 },
 "nbformat": 4,
 "nbformat_minor": 2
}
